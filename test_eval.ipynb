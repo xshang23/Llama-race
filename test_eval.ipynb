{
 "cells": [
  {
   "cell_type": "code",
   "execution_count": 1,
   "metadata": {},
   "outputs": [],
   "source": [
    "import numpy as np\n",
    "from evaluation import gap, disparate_impact, evaluate"
   ]
  },
  {
   "cell_type": "code",
   "execution_count": 2,
   "metadata": {},
   "outputs": [],
   "source": [
    "def read_data(filename):\n",
    "    l = []\n",
    "    with open(filename, 'r') as f:\n",
    "        for line in f:\n",
    "            l.append(line.strip())\n",
    "    return l"
   ]
  },
  {
   "cell_type": "code",
   "execution_count": 3,
   "metadata": {},
   "outputs": [],
   "source": [
    "f1 = read_data('/WAVE/projects/newsq_scu/xiaoxiao_git/Llama-race/logs/new_loss_rank_32/Meta-Llama-3-8B-Instruct/lambada_1.0.txt')\n",
    "f2 = read_data('/WAVE/projects/newsq_scu/xiaoxiao_git/Llama-race/logs/new_loss_rank_32/Meta-Llama-3-8B-Instruct/lambada_1.0.txt')\n",
    "f3 = read_data('/WAVE/projects/newsq_scu/xiaoxiao_git/Llama-race/logs/rank_32/Meta-Llama-3-8B-Instruct/result_0.03.txt')\n",
    "f4 = read_data('/WAVE/projects/newsq_scu/xiaoxiao_git/Llama-race/logs/fair_loss_2/Meta-Llama-3-8B-Instruct/result_0.04.txt')\n",
    "true = read_data('/WAVE/projects/newsq_scu/xiaoxiao_git/Llama-race/logs/fair_loss/Meta-Llama-3-8B-Instruct/true.txt')\n"
   ]
  },
  {
   "cell_type": "code",
   "execution_count": 4,
   "metadata": {},
   "outputs": [],
   "source": [
    "def valid_data(pred, true):\n",
    "    valid_categories = {'White', 'Black', 'API', 'Hispanic'}\n",
    "    filtered_predictions = []\n",
    "    filtered_true_labels = []\n",
    "    # Filter predictions and true labels\n",
    "    for pred, true in zip(pred, true):\n",
    "        if pred in valid_categories:\n",
    "            filtered_predictions.append(pred)\n",
    "            filtered_true_labels.append(true)\n",
    "    return filtered_predictions, filtered_true_labels\n",
    "    "
   ]
  },
  {
   "cell_type": "code",
   "execution_count": 5,
   "metadata": {},
   "outputs": [],
   "source": [
    "ff1, ftrue1 = valid_data(f1, true)\n",
    "ff2, ftrue2 = valid_data(f2, true)\n",
    "ff3, ftrue3 = valid_data(f3, true)\n",
    "ff4, ftrue4 = valid_data(f4, true)\n"
   ]
  },
  {
   "cell_type": "code",
   "execution_count": 6,
   "metadata": {},
   "outputs": [
    {
     "name": "stdout",
     "output_type": "stream",
     "text": [
      "-------------------\n",
      "\n",
      "Accuracy: 0.565\n",
      "\n",
      "Classification Report:\n",
      "              precision    recall  f1-score   support\n",
      "\n",
      "         API       0.20      0.17      0.18       515\n",
      "       Black       0.23      0.26      0.24      3719\n",
      "    Hispanic       0.33      0.42      0.37      4262\n",
      "       White       0.74      0.68      0.71     17436\n",
      "\n",
      "    accuracy                           0.57     25932\n",
      "   macro avg       0.38      0.38      0.38     25932\n",
      "weighted avg       0.59      0.57      0.58     25932\n",
      "\n",
      "\n",
      "Confusion Matrix:\n",
      "[[   87    67   102   259]\n",
      " [   52   957   663  2047]\n",
      " [   50   533  1787  1892]\n",
      " [  242  2577  2785 11832]]\n",
      "1-GAP:  0.9716\n",
      "Disparate Impact is: 0.4153\n",
      "-------------------\n",
      "\n",
      "Accuracy: 0.431\n",
      "\n",
      "Classification Report:\n",
      "              precision    recall  f1-score   support\n",
      "\n",
      "         API       0.14      0.07      0.09       515\n",
      "       Black       0.17      0.43      0.24      3719\n",
      "    Hispanic       0.28      0.28      0.28      4258\n",
      "       White       0.71      0.48      0.57     17436\n",
      "\n",
      "    accuracy                           0.43     25928\n",
      "   macro avg       0.32      0.31      0.30     25928\n",
      "weighted avg       0.55      0.43      0.47     25928\n",
      "\n",
      "\n",
      "Confusion Matrix:\n",
      "[[  34  204   72  205]\n",
      " [  30 1605  550 1534]\n",
      " [  38 1404 1213 1603]\n",
      " [ 140 6448 2532 8316]]\n",
      "1-GAP:  0.984\n",
      "Disparate Impact is: 0.5469\n",
      "-------------------\n",
      "\n",
      "Accuracy: 0.528\n",
      "\n",
      "Classification Report:\n",
      "              precision    recall  f1-score   support\n",
      "\n",
      "         API       0.02      0.01      0.01       497\n",
      "       Black       0.14      0.08      0.10      3634\n",
      "    Hispanic       0.16      0.18      0.17      4167\n",
      "       White       0.67      0.72      0.70     17013\n",
      "\n",
      "    accuracy                           0.53     25311\n",
      "   macro avg       0.25      0.25      0.25     25311\n",
      "weighted avg       0.50      0.53      0.51     25311\n",
      "\n",
      "\n",
      "Confusion Matrix:\n",
      "[[    6    39    97   355]\n",
      " [   48   298   640  2648]\n",
      " [   56   337   735  3039]\n",
      " [  207  1445  3046 12315]]\n",
      "1-GAP:  0.9987\n",
      "Disparate Impact is: 0.1245\n",
      "-------------------\n",
      "\n",
      "Accuracy: 0.455\n",
      "\n",
      "Classification Report:\n",
      "              precision    recall  f1-score   support\n",
      "\n",
      "         API       0.00      0.00      0.00       446\n",
      "       Black       0.15      0.11      0.13      3260\n",
      "    Hispanic       0.18      0.35      0.24      3767\n",
      "       White       0.68      0.57      0.62     15269\n",
      "\n",
      "    accuracy                           0.45     22742\n",
      "   macro avg       0.25      0.26      0.25     22742\n",
      "weighted avg       0.51      0.45      0.47     22742\n",
      "\n",
      "\n",
      "Confusion Matrix:\n",
      "[[   0   50  166  230]\n",
      " [   0  364 1084 1812]\n",
      " [   0  404 1334 2029]\n",
      " [   2 1648 4972 8647]]\n",
      "1-GAP:  0.9926\n",
      "Disparate Impact is: 0.2742\n"
     ]
    }
   ],
   "source": [
    "for y_true, y_pred in zip([ftrue1, ftrue2, ftrue3, ftrue4], [ff1, ff2, ff3, ff4]):\n",
    "    print('-------------------\\n')\n",
    "    evaluate(y_true, y_pred)\n",
    "    gap(y_true, y_pred)\n",
    "    disparate_impact(y_true, y_pred)"
   ]
  },
  {
   "cell_type": "code",
   "execution_count": null,
   "metadata": {},
   "outputs": [],
   "source": []
  }
 ],
 "metadata": {
  "kernelspec": {
   "display_name": "venv",
   "language": "python",
   "name": "python3"
  },
  "language_info": {
   "codemirror_mode": {
    "name": "ipython",
    "version": 3
   },
   "file_extension": ".py",
   "mimetype": "text/x-python",
   "name": "python",
   "nbconvert_exporter": "python",
   "pygments_lexer": "ipython3",
   "version": "3.9.18"
  }
 },
 "nbformat": 4,
 "nbformat_minor": 2
}
