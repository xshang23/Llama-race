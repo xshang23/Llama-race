{
 "cells": [
  {
   "cell_type": "code",
   "execution_count": 1,
   "metadata": {},
   "outputs": [],
   "source": [
    "import numpy as np\n",
    "from evaluation import gap, disparate_impact, evaluate"
   ]
  },
  {
   "cell_type": "code",
   "execution_count": 2,
   "metadata": {},
   "outputs": [],
   "source": [
    "def read_data(filename):\n",
    "    l = []\n",
    "    with open(filename, 'r') as f:\n",
    "        for line in f:\n",
    "            l.append(line.strip())\n",
    "    return l"
   ]
  },
  {
   "cell_type": "code",
   "execution_count": 3,
   "metadata": {},
   "outputs": [],
   "source": [
    "f1 = read_data('/WAVE/projects/newsq_scu/xiaoxiao_git/Llama-race/logs/fair_loss_2/Meta-Llama-3-8B-Instruct/result_0.01.txt')\n",
    "f2 = read_data('/WAVE/projects/newsq_scu/xiaoxiao_git/Llama-race/logs/fair_loss_2/Meta-Llama-3-8B-Instruct/result_0.02.txt')\n",
    "f3 = read_data('/WAVE/projects/newsq_scu/xiaoxiao_git/Llama-race/logs/fair_loss_2/Meta-Llama-3-8B-Instruct/result_0.03.txt')\n",
    "f4 = read_data('/WAVE/projects/newsq_scu/xiaoxiao_git/Llama-race/logs/fair_loss_2/Meta-Llama-3-8B-Instruct/result_0.04.txt')\n",
    "true = read_data('/WAVE/projects/newsq_scu/xiaoxiao_git/Llama-race/logs/fair_loss/Meta-Llama-3-8B-Instruct/true.txt')\n"
   ]
  },
  {
   "cell_type": "code",
   "execution_count": 4,
   "metadata": {},
   "outputs": [],
   "source": [
    "def valid_data(pred, true):\n",
    "    valid_categories = {'White', 'Black', 'API', 'Hispanic'}\n",
    "    filtered_predictions = []\n",
    "    filtered_true_labels = []\n",
    "    # Filter predictions and true labels\n",
    "    for pred, true in zip(pred, true):\n",
    "        if pred in valid_categories:\n",
    "            filtered_predictions.append(pred)\n",
    "            filtered_true_labels.append(true)\n",
    "    return filtered_predictions, filtered_true_labels\n",
    "    "
   ]
  },
  {
   "cell_type": "code",
   "execution_count": 5,
   "metadata": {},
   "outputs": [],
   "source": [
    "ff1, ftrue1 = valid_data(f1, true)\n",
    "ff2, ftrue2 = valid_data(f2, true)\n",
    "ff3, ftrue3 = valid_data(f3, true)\n",
    "ff4, ftrue4 = valid_data(f4, true)\n"
   ]
  },
  {
   "cell_type": "code",
   "execution_count": 6,
   "metadata": {},
   "outputs": [
    {
     "name": "stdout",
     "output_type": "stream",
     "text": [
      "-------------------\n",
      "\n",
      "Accuracy: 0.707\n",
      "\n",
      "Classification Report:\n",
      "              precision    recall  f1-score   support\n",
      "\n",
      "         API       0.50      0.00      0.01       501\n",
      "       Black       0.32      0.51      0.39      3712\n",
      "    Hispanic       0.72      0.89      0.80      4258\n",
      "       White       0.86      0.72      0.79     17405\n",
      "\n",
      "    accuracy                           0.71     25876\n",
      "   macro avg       0.60      0.53      0.50     25876\n",
      "weighted avg       0.75      0.71      0.72     25876\n",
      "\n",
      "\n",
      "Confusion Matrix:\n",
      "[[    2   224    81   194]\n",
      " [    1  1897   228  1586]\n",
      " [    0   173  3774   311]\n",
      " [    1  3669  1123 12612]]\n",
      "1-GAP:  0.8389\n",
      "Disparate Impact is: 0.6446\n",
      "-------------------\n",
      "\n",
      "Accuracy: 0.492\n"
     ]
    },
    {
     "name": "stderr",
     "output_type": "stream",
     "text": [
      "/WAVE/projects/newsq_scu/xiaoxiao_git/Llama-race/venv/lib/python3.9/site-packages/sklearn/metrics/_classification.py:1497: UndefinedMetricWarning: Precision is ill-defined and being set to 0.0 in labels with no predicted samples. Use `zero_division` parameter to control this behavior.\n",
      "  _warn_prf(average, modifier, f\"{metric.capitalize()} is\", len(result))\n",
      "/WAVE/projects/newsq_scu/xiaoxiao_git/Llama-race/venv/lib/python3.9/site-packages/sklearn/metrics/_classification.py:1497: UndefinedMetricWarning: Precision is ill-defined and being set to 0.0 in labels with no predicted samples. Use `zero_division` parameter to control this behavior.\n",
      "  _warn_prf(average, modifier, f\"{metric.capitalize()} is\", len(result))\n",
      "/WAVE/projects/newsq_scu/xiaoxiao_git/Llama-race/venv/lib/python3.9/site-packages/sklearn/metrics/_classification.py:1497: UndefinedMetricWarning: Precision is ill-defined and being set to 0.0 in labels with no predicted samples. Use `zero_division` parameter to control this behavior.\n",
      "  _warn_prf(average, modifier, f\"{metric.capitalize()} is\", len(result))\n"
     ]
    },
    {
     "name": "stdout",
     "output_type": "stream",
     "text": [
      "\n",
      "Classification Report:\n",
      "              precision    recall  f1-score   support\n",
      "\n",
      "         API       0.00      0.00      0.00       506\n",
      "       Black       0.14      0.14      0.14      3671\n",
      "    Hispanic       0.17      0.21      0.19      4202\n",
      "       White       0.67      0.65      0.66     17171\n",
      "\n",
      "    accuracy                           0.49     25550\n",
      "   macro avg       0.25      0.25      0.25     25550\n",
      "weighted avg       0.50      0.49      0.50     25550\n",
      "\n",
      "\n",
      "Confusion Matrix:\n",
      "[[    0    73   106   327]\n",
      " [    0   529   747  2395]\n",
      " [    0   594   879  2729]\n",
      " [    0  2455  3549 11167]]\n",
      "1-GAP:  0.9992\n",
      "Disparate Impact is: 0.1811\n",
      "-------------------\n",
      "\n",
      "Accuracy: 0.593\n"
     ]
    },
    {
     "name": "stderr",
     "output_type": "stream",
     "text": [
      "/WAVE/projects/newsq_scu/xiaoxiao_git/Llama-race/venv/lib/python3.9/site-packages/sklearn/metrics/_classification.py:1497: UndefinedMetricWarning: Precision is ill-defined and being set to 0.0 in labels with no predicted samples. Use `zero_division` parameter to control this behavior.\n",
      "  _warn_prf(average, modifier, f\"{metric.capitalize()} is\", len(result))\n",
      "/WAVE/projects/newsq_scu/xiaoxiao_git/Llama-race/venv/lib/python3.9/site-packages/sklearn/metrics/_classification.py:1497: UndefinedMetricWarning: Precision is ill-defined and being set to 0.0 in labels with no predicted samples. Use `zero_division` parameter to control this behavior.\n",
      "  _warn_prf(average, modifier, f\"{metric.capitalize()} is\", len(result))\n",
      "/WAVE/projects/newsq_scu/xiaoxiao_git/Llama-race/venv/lib/python3.9/site-packages/sklearn/metrics/_classification.py:1497: UndefinedMetricWarning: Precision is ill-defined and being set to 0.0 in labels with no predicted samples. Use `zero_division` parameter to control this behavior.\n",
      "  _warn_prf(average, modifier, f\"{metric.capitalize()} is\", len(result))\n"
     ]
    },
    {
     "name": "stdout",
     "output_type": "stream",
     "text": [
      "\n",
      "Classification Report:\n",
      "              precision    recall  f1-score   support\n",
      "\n",
      "         API       0.00      0.00      0.00       510\n",
      "       Black       0.18      0.01      0.02      3692\n",
      "    Hispanic       0.19      0.20      0.19      4237\n",
      "       White       0.68      0.83      0.75     17363\n",
      "\n",
      "    accuracy                           0.59     25802\n",
      "   macro avg       0.26      0.26      0.24     25802\n",
      "weighted avg       0.51      0.59      0.54     25802\n",
      "\n",
      "\n",
      "Confusion Matrix:\n",
      "[[    0     2    74   434]\n",
      " [    0    30   601  3061]\n",
      " [    0    32   832  3373]\n",
      " [    0   107  2810 14446]]\n",
      "1-GAP:  0.9915\n",
      "Disparate Impact is: 0.0819\n",
      "-------------------\n",
      "\n",
      "Accuracy: 0.455\n",
      "\n",
      "Classification Report:\n",
      "              precision    recall  f1-score   support\n",
      "\n",
      "         API       0.00      0.00      0.00       446\n",
      "       Black       0.15      0.11      0.13      3260\n",
      "    Hispanic       0.18      0.35      0.24      3767\n",
      "       White       0.68      0.57      0.62     15269\n",
      "\n",
      "    accuracy                           0.45     22742\n",
      "   macro avg       0.25      0.26      0.25     22742\n",
      "weighted avg       0.51      0.45      0.47     22742\n",
      "\n",
      "\n",
      "Confusion Matrix:\n",
      "[[   0   50  166  230]\n",
      " [   0  364 1084 1812]\n",
      " [   0  404 1334 2029]\n",
      " [   2 1648 4972 8647]]\n",
      "1-GAP:  0.9926\n",
      "Disparate Impact is: 0.2742\n"
     ]
    }
   ],
   "source": [
    "for y_true, y_pred in zip([ftrue1, ftrue2, ftrue3, ftrue4], [ff1, ff2, ff3, ff4]):\n",
    "    print('-------------------\\n')\n",
    "    evaluate(y_true, y_pred)\n",
    "    gap(y_true, y_pred)\n",
    "    disparate_impact(y_true, y_pred)"
   ]
  },
  {
   "cell_type": "code",
   "execution_count": null,
   "metadata": {},
   "outputs": [],
   "source": []
  }
 ],
 "metadata": {
  "kernelspec": {
   "display_name": "venv",
   "language": "python",
   "name": "python3"
  },
  "language_info": {
   "codemirror_mode": {
    "name": "ipython",
    "version": 3
   },
   "file_extension": ".py",
   "mimetype": "text/x-python",
   "name": "python",
   "nbconvert_exporter": "python",
   "pygments_lexer": "ipython3",
   "version": "3.9.18"
  }
 },
 "nbformat": 4,
 "nbformat_minor": 2
}
